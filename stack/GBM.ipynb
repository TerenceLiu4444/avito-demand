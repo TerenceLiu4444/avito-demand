{
 "cells": [
  {
   "cell_type": "code",
   "execution_count": 1,
   "metadata": {},
   "outputs": [],
   "source": [
    "import pandas as pd\n",
    "import numpy as np\n",
    "from sklearn import metrics, linear_model\n",
    "from sklearn.model_selection import train_test_split\n",
    "from sklearn.preprocessing import LabelEncoder\n",
    "from lightgbm import LGBMRegressor\n",
    "\n",
    "lgb = pd.read_csv('../lgCV_2505.csv.gz', compression='gzip')\n",
    "rnn = pd.read_csv('../rnnCV_2805.csv.gz', compression='gzip')\n",
    "mlp = pd.read_csv('../mlpCV_2505.csv.gz', compression='gzip')\n",
    "truth = pd.read_csv('../../train.csv.zip', compression='zip')\n",
    "y = truth['deal_probability'].values\n",
    "truth.drop('deal_probability', 1)\n",
    "test =  pd.read_csv('../../test.csv.zip', compression='zip')\n",
    "test['deal_probability']=float('NAN') \n",
    "truth = pd.concat([truth,test[truth.columns]],axis=0)\n",
    "\n",
    "lgb.rename(columns={'deal_probability': 'lgb_preds' }, inplace=True)\n",
    "mlp.rename(columns={'deal_probability': 'mlp_preds' }, inplace=True)\n",
    "preds_df = lgb.merge(rnn, on='item_id').merge(mlp, on='item_id').merge(truth, on='item_id',how='left')\n"
   ]
  },
  {
   "cell_type": "code",
   "execution_count": 2,
   "metadata": {},
   "outputs": [],
   "source": [
    "preds_df['difference_l_r']=preds_df['lgb_preds'] - preds_df['rnn_preds']\n",
    "preds_df['price'].fillna(-1,inplace=True)"
   ]
  },
  {
   "cell_type": "code",
   "execution_count": 52,
   "metadata": {},
   "outputs": [],
   "source": [
    "cols = ['lgb_preds','rnn_preds','mlp_preds','price', 'difference_l_r', 'region', 'param_1', 'parent_category_name', 'category_name']\n",
    "for col in cols[5:]:\n",
    "    preds_df[col] = LabelEncoder().fit_transform(preds_df[col].fillna(\"0\"))\n",
    "train_df = preds_df[~preds_df['deal_probability'].isnull()]\n",
    "test_df = preds_df[preds_df['deal_probability'].isnull()]\n",
    "\n",
    "\n",
    "full=True\n",
    "if full:\n",
    "    n_estimators = 500\n",
    "    train_X = train_df[cols]\n",
    "    train_y = y\n",
    "    eval_set = [(train_X,train_y)]\n",
    "else:\n",
    "    n_estimators = 4000\n",
    "    train_X, valid_X, train_y, valid_y = train_test_split(train_df[cols], y, train_size=.8, random_state=12345)\n",
    "    eval_set = [(train_X,train_y),(valid_X,valid_y)]\n"
   ]
  },
  {
   "cell_type": "code",
   "execution_count": 53,
   "metadata": {},
   "outputs": [
    {
     "data": {
      "text/plain": [
       "1503424"
      ]
     },
     "execution_count": 53,
     "metadata": {},
     "output_type": "execute_result"
    }
   ],
   "source": [
    "len(train_X)"
   ]
  },
  {
   "cell_type": "code",
   "execution_count": 54,
   "metadata": {},
   "outputs": [],
   "source": [
    "clf = LGBMRegressor(n_estimators=n_estimators, max_depth=-1, num_leaves=16, learning_rate=.05, device='gpu')"
   ]
  },
  {
   "cell_type": "code",
   "execution_count": 55,
   "metadata": {},
   "outputs": [
    {
     "name": "stderr",
     "output_type": "stream",
     "text": [
      "/home/rosenflanzt/anaconda3/envs/kaggle_avito/lib/python3.6/site-packages/lightgbm/basic.py:1038: UserWarning: categorical_feature in Dataset is overridden. New categorical_feature is ['category_name', 'param_1', 'parent_category_name', 'region']\n",
      "  warnings.warn('categorical_feature in Dataset is overridden. New categorical_feature is {}'.format(sorted(list(categorical_feature))))\n"
     ]
    },
    {
     "name": "stdout",
     "output_type": "stream",
     "text": [
      "Training until validation scores don't improve for 40 rounds.\n",
      "[10]\ttraining's rmse: 0.232567\n",
      "[20]\ttraining's rmse: 0.221564\n",
      "[30]\ttraining's rmse: 0.217291\n",
      "[40]\ttraining's rmse: 0.215604\n",
      "[50]\ttraining's rmse: 0.214908\n",
      "[60]\ttraining's rmse: 0.214597\n",
      "[70]\ttraining's rmse: 0.21444\n",
      "[80]\ttraining's rmse: 0.214349\n",
      "[90]\ttraining's rmse: 0.214284\n",
      "[100]\ttraining's rmse: 0.214236\n",
      "[110]\ttraining's rmse: 0.214192\n",
      "[120]\ttraining's rmse: 0.214148\n",
      "[130]\ttraining's rmse: 0.214111\n",
      "[140]\ttraining's rmse: 0.214078\n",
      "[150]\ttraining's rmse: 0.214047\n",
      "[160]\ttraining's rmse: 0.214014\n",
      "[170]\ttraining's rmse: 0.213985\n",
      "[180]\ttraining's rmse: 0.213955\n",
      "[190]\ttraining's rmse: 0.213928\n",
      "[200]\ttraining's rmse: 0.213896\n",
      "[210]\ttraining's rmse: 0.21387\n",
      "[220]\ttraining's rmse: 0.213837\n",
      "[230]\ttraining's rmse: 0.213807\n",
      "[240]\ttraining's rmse: 0.213782\n",
      "[250]\ttraining's rmse: 0.213754\n",
      "[260]\ttraining's rmse: 0.213729\n",
      "[270]\ttraining's rmse: 0.213706\n",
      "[280]\ttraining's rmse: 0.213684\n",
      "[290]\ttraining's rmse: 0.213659\n",
      "[300]\ttraining's rmse: 0.213636\n",
      "[310]\ttraining's rmse: 0.213614\n",
      "[320]\ttraining's rmse: 0.213592\n",
      "[330]\ttraining's rmse: 0.213566\n",
      "[340]\ttraining's rmse: 0.213545\n",
      "[350]\ttraining's rmse: 0.213521\n",
      "[360]\ttraining's rmse: 0.213497\n",
      "[370]\ttraining's rmse: 0.213476\n",
      "[380]\ttraining's rmse: 0.213455\n",
      "[390]\ttraining's rmse: 0.213438\n",
      "[400]\ttraining's rmse: 0.213421\n",
      "[410]\ttraining's rmse: 0.213407\n",
      "[420]\ttraining's rmse: 0.213385\n",
      "[430]\ttraining's rmse: 0.213365\n",
      "[440]\ttraining's rmse: 0.213344\n",
      "[450]\ttraining's rmse: 0.213326\n",
      "[460]\ttraining's rmse: 0.213311\n",
      "[470]\ttraining's rmse: 0.213291\n",
      "[480]\ttraining's rmse: 0.213273\n",
      "[490]\ttraining's rmse: 0.213254\n",
      "[500]\ttraining's rmse: 0.213235\n",
      "Did not meet early stopping. Best iteration is:\n",
      "[500]\ttraining's rmse: 0.213235\n",
      "CPU times: user 2min 3s, sys: 620 ms, total: 2min 3s\n",
      "Wall time: 16.9 s\n"
     ]
    },
    {
     "data": {
      "text/plain": [
       "LGBMRegressor(boosting_type='gbdt', class_weight=None, colsample_bytree=1.0,\n",
       "       device='gpu', learning_rate=0.05, max_depth=-1,\n",
       "       min_child_samples=20, min_child_weight=0.001, min_split_gain=0.0,\n",
       "       n_estimators=500, n_jobs=-1, num_leaves=16, objective=None,\n",
       "       random_state=None, reg_alpha=0.0, reg_lambda=0.0, silent=True,\n",
       "       subsample=1.0, subsample_for_bin=200000, subsample_freq=1)"
      ]
     },
     "execution_count": 55,
     "metadata": {},
     "output_type": "execute_result"
    }
   ],
   "source": [
    "%%time\n",
    "clf.fit(train_X, train_y, early_stopping_rounds=40, eval_set=eval_set, eval_metric='rmse', verbose=10, categorical_feature=['param_1','region','parent_category_name','category_name'])"
   ]
  },
  {
   "cell_type": "code",
   "execution_count": 58,
   "metadata": {},
   "outputs": [
    {
     "name": "stderr",
     "output_type": "stream",
     "text": [
      "/home/rosenflanzt/anaconda3/envs/kaggle_avito/lib/python3.6/site-packages/ipykernel_launcher.py:1: SettingWithCopyWarning: \n",
      "A value is trying to be set on a copy of a slice from a DataFrame.\n",
      "Try using .loc[row_indexer,col_indexer] = value instead\n",
      "\n",
      "See the caveats in the documentation: http://pandas.pydata.org/pandas-docs/stable/indexing.html#indexing-view-versus-copy\n",
      "  \"\"\"Entry point for launching an IPython kernel.\n",
      "/home/rosenflanzt/anaconda3/envs/kaggle_avito/lib/python3.6/site-packages/ipykernel_launcher.py:2: SettingWithCopyWarning: \n",
      "A value is trying to be set on a copy of a slice from a DataFrame.\n",
      "Try using .loc[row_indexer,col_indexer] = value instead\n",
      "\n",
      "See the caveats in the documentation: http://pandas.pydata.org/pandas-docs/stable/indexing.html#indexing-view-versus-copy\n",
      "  \n"
     ]
    }
   ],
   "source": [
    "test_df['deal_probability'] = clf.predict(test_df[cols] )\n",
    "test_df['deal_probability'] = np.clip(test_df['deal_probability'], .0001, .9999)\n",
    "test_df[['item_id', 'deal_probability']].to_csv('../lgbbsub_3005L2.csv.gz', compression='gzip', index=False, header=True)"
   ]
  },
  {
   "cell_type": "code",
   "execution_count": 57,
   "metadata": {},
   "outputs": [
    {
     "data": {
      "text/html": [
       "<div>\n",
       "<style scoped>\n",
       "    .dataframe tbody tr th:only-of-type {\n",
       "        vertical-align: middle;\n",
       "    }\n",
       "\n",
       "    .dataframe tbody tr th {\n",
       "        vertical-align: top;\n",
       "    }\n",
       "\n",
       "    .dataframe thead th {\n",
       "        text-align: right;\n",
       "    }\n",
       "</style>\n",
       "<table border=\"1\" class=\"dataframe\">\n",
       "  <thead>\n",
       "    <tr style=\"text-align: right;\">\n",
       "      <th></th>\n",
       "      <th>item_id</th>\n",
       "      <th>deal_probability</th>\n",
       "    </tr>\n",
       "  </thead>\n",
       "  <tbody>\n",
       "    <tr>\n",
       "      <th>1503424</th>\n",
       "      <td>6544e41a8817</td>\n",
       "      <td>0.403892</td>\n",
       "    </tr>\n",
       "    <tr>\n",
       "      <th>1503425</th>\n",
       "      <td>65b9484d670f</td>\n",
       "      <td>0.160688</td>\n",
       "    </tr>\n",
       "    <tr>\n",
       "      <th>1503426</th>\n",
       "      <td>8bab230b2ecd</td>\n",
       "      <td>0.136144</td>\n",
       "    </tr>\n",
       "    <tr>\n",
       "      <th>1503427</th>\n",
       "      <td>8e348601fefc</td>\n",
       "      <td>0.061317</td>\n",
       "    </tr>\n",
       "    <tr>\n",
       "      <th>1503428</th>\n",
       "      <td>8bd2fe400b89</td>\n",
       "      <td>0.286880</td>\n",
       "    </tr>\n",
       "  </tbody>\n",
       "</table>\n",
       "</div>"
      ],
      "text/plain": [
       "              item_id  deal_probability\n",
       "1503424  6544e41a8817          0.403892\n",
       "1503425  65b9484d670f          0.160688\n",
       "1503426  8bab230b2ecd          0.136144\n",
       "1503427  8e348601fefc          0.061317\n",
       "1503428  8bd2fe400b89          0.286880"
      ]
     },
     "execution_count": 57,
     "metadata": {},
     "output_type": "execute_result"
    }
   ],
   "source": [
    "test_df[['item_id', 'deal_probability']].head()"
   ]
  },
  {
   "cell_type": "code",
   "execution_count": null,
   "metadata": {},
   "outputs": [],
   "source": []
  }
 ],
 "metadata": {
  "kernelspec": {
   "display_name": "Python 3",
   "language": "python",
   "name": "python3"
  },
  "language_info": {
   "codemirror_mode": {
    "name": "ipython",
    "version": 3
   },
   "file_extension": ".py",
   "mimetype": "text/x-python",
   "name": "python",
   "nbconvert_exporter": "python",
   "pygments_lexer": "ipython3",
   "version": "3.6.5"
  }
 },
 "nbformat": 4,
 "nbformat_minor": 2
}
