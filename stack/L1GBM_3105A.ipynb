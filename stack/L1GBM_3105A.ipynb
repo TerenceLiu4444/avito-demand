{
 "cells": [
  {
   "cell_type": "code",
   "execution_count": 1,
   "metadata": {},
   "outputs": [],
   "source": [
    "import pandas as pd\n",
    "import numpy as np\n",
    "from sklearn import metrics, linear_model\n",
    "from sklearn.model_selection import train_test_split\n",
    "from sklearn.preprocessing import LabelEncoder\n",
    "from lightgbm import LGBMRegressor\n",
    "\n",
    "data_path = 'data/'\n",
    "\n",
    "#lgb25 = pd.read_csv('../lgCV_2505.csv.gz', compression='gzip')\n",
    "lgb27 = pd.read_csv('../lgCV_2705B.csv.gz', compression='gzip')\n",
    "rnn = pd.read_csv('../rnnCV_2805.csv.gz', compression='gzip')\n",
    "mlp = pd.read_csv('../mlpCV_2505.csv.gz', compression='gzip')\n",
    "truth = pd.read_csv('../../%strain.csv.zip'%(data_path), compression='zip')\n",
    "y = truth['deal_probability'].values\n",
    "truth.drop('deal_probability', 1)\n",
    "test =  pd.read_csv('../../%stest.csv.zip'%(data_path), compression='zip')\n",
    "test['deal_probability']=float('NAN') \n",
    "truth = pd.concat([truth,test[truth.columns]],axis=0)"
   ]
  },
  {
   "cell_type": "code",
   "execution_count": 2,
   "metadata": {},
   "outputs": [],
   "source": [
    "#lgb25.rename(columns={'deal_probability': 'lgb25_preds' }, inplace=True)\n",
    "lgb27.rename(columns={'deal_probability': 'lgb27_preds' }, inplace=True)\n",
    "mlp.rename(columns={'deal_probability': 'mlp_preds' }, inplace=True)\n",
    "preds_df = lgb27.merge(rnn, on='item_id')\\\n",
    "                .merge(mlp, on='item_id')\\\n",
    "                .merge(truth, on='item_id',how='left')"
   ]
  },
  {
   "cell_type": "code",
   "execution_count": 3,
   "metadata": {},
   "outputs": [],
   "source": [
    "preds_df['difference_l27_r']=preds_df['lgb27_preds'] - preds_df['rnn_preds']\n",
    "preds_df['difference_l27_m']=preds_df['lgb27_preds'] - preds_df['mlp_preds']\n",
    "#preds_df['difference_l27_l25']=preds_df['lgb27_preds'] - preds_df['lgb25_preds']\n",
    "preds_df['price'].fillna(-1,inplace=True)"
   ]
  },
  {
   "cell_type": "code",
   "execution_count": 4,
   "metadata": {},
   "outputs": [
    {
     "name": "stdout",
     "output_type": "stream",
     "text": [
      "True     1503424\n",
      "False     508438\n",
      "Name: deal_probability, dtype: int64\n",
      "RMSE lgb27_preds:  0.21681527582821059\n",
      "RMSE rnn_preds:  0.21771476573780568\n",
      "RMSE mlp_preds:  0.2187544351068867\n"
     ]
    }
   ],
   "source": [
    "idx = preds_df['deal_probability']==preds_df['deal_probability']\n",
    "print(idx.value_counts())\n",
    "for col in [c for c in preds_df.columns if '_preds' in c]:\n",
    "    print('RMSE %s: '%(col), np.sqrt(metrics.mean_squared_error(preds_df['deal_probability'][idx].values, preds_df[col][idx].values)))"
   ]
  },
  {
   "cell_type": "code",
   "execution_count": 6,
   "metadata": {},
   "outputs": [],
   "source": [
    "cols = ['lgb27_preds', 'rnn_preds','mlp_preds','price', \\\n",
    "        'difference_l27_r', 'difference_l27_m', \\\n",
    "        'region', 'param_1', 'parent_category_name', 'category_name' ]\n",
    "for col in ['region', 'param_1', 'parent_category_name', 'category_name']:\n",
    "    preds_df[col] = LabelEncoder().fit_transform(preds_df[col].fillna(\"0\"))\n",
    "train_df = preds_df[~preds_df['deal_probability'].isnull()]\n",
    "test_df = preds_df[preds_df['deal_probability'].isnull()]"
   ]
  },
  {
   "cell_type": "code",
   "execution_count": 14,
   "metadata": {},
   "outputs": [],
   "source": [
    "full=True\n",
    "if full:\n",
    "    n_estimators = 1326\n",
    "    train_X = train_df[cols]\n",
    "    train_y = y\n",
    "    eval_set = [(train_X,train_y)]\n",
    "else:\n",
    "    n_estimators = 4000\n",
    "    train_X, valid_X, train_y, valid_y = train_test_split(train_df[cols], y, train_size=.8, random_state=12345)\n",
    "    eval_set = [(train_X,train_y),(valid_X,valid_y)]"
   ]
  },
  {
   "cell_type": "code",
   "execution_count": 15,
   "metadata": {},
   "outputs": [
    {
     "data": {
      "text/plain": [
       "1503424"
      ]
     },
     "execution_count": 15,
     "metadata": {},
     "output_type": "execute_result"
    }
   ],
   "source": [
    "len(train_X)"
   ]
  },
  {
   "cell_type": "code",
   "execution_count": 16,
   "metadata": {},
   "outputs": [],
   "source": [
    "clf = LGBMRegressor(n_estimators=n_estimators, \n",
    "                    max_depth=-1, \n",
    "                    feature_fraction= 0.5,\n",
    "                    num_leaves=32, \n",
    "                    learning_rate=.02)#, device='gpu')"
   ]
  },
  {
   "cell_type": "code",
   "execution_count": 17,
   "metadata": {},
   "outputs": [
    {
     "name": "stderr",
     "output_type": "stream",
     "text": [
      "/home/darragh/anaconda3/lib/python3.6/site-packages/lightgbm/basic.py:1038: UserWarning: categorical_feature in Dataset is overridden. New categorical_feature is ['category_name', 'param_1', 'parent_category_name', 'region']\n",
      "  warnings.warn('categorical_feature in Dataset is overridden. New categorical_feature is {}'.format(sorted(list(categorical_feature))))\n"
     ]
    },
    {
     "name": "stdout",
     "output_type": "stream",
     "text": [
      "Training until validation scores don't improve for 80 rounds.\n",
      "[10]\ttraining's rmse: 0.246228\n",
      "[20]\ttraining's rmse: 0.236839\n",
      "[30]\ttraining's rmse: 0.230417\n",
      "[40]\ttraining's rmse: 0.225403\n",
      "[50]\ttraining's rmse: 0.221917\n",
      "[60]\ttraining's rmse: 0.219639\n",
      "[70]\ttraining's rmse: 0.217957\n",
      "[80]\ttraining's rmse: 0.216843\n",
      "[90]\ttraining's rmse: 0.216015\n",
      "[100]\ttraining's rmse: 0.215493\n",
      "[110]\ttraining's rmse: 0.215092\n",
      "[120]\ttraining's rmse: 0.214796\n",
      "[130]\ttraining's rmse: 0.214576\n",
      "[140]\ttraining's rmse: 0.214408\n",
      "[150]\ttraining's rmse: 0.214283\n",
      "[160]\ttraining's rmse: 0.214189\n",
      "[170]\ttraining's rmse: 0.214111\n",
      "[180]\ttraining's rmse: 0.214055\n",
      "[190]\ttraining's rmse: 0.214\n",
      "[200]\ttraining's rmse: 0.21396\n",
      "[210]\ttraining's rmse: 0.21392\n",
      "[220]\ttraining's rmse: 0.213885\n",
      "[230]\ttraining's rmse: 0.213855\n",
      "[240]\ttraining's rmse: 0.213828\n",
      "[250]\ttraining's rmse: 0.213798\n",
      "[260]\ttraining's rmse: 0.213774\n",
      "[270]\ttraining's rmse: 0.213751\n",
      "[280]\ttraining's rmse: 0.213728\n",
      "[290]\ttraining's rmse: 0.213708\n",
      "[300]\ttraining's rmse: 0.213688\n",
      "[310]\ttraining's rmse: 0.213665\n",
      "[320]\ttraining's rmse: 0.213647\n",
      "[330]\ttraining's rmse: 0.213627\n",
      "[340]\ttraining's rmse: 0.213609\n",
      "[350]\ttraining's rmse: 0.213589\n",
      "[360]\ttraining's rmse: 0.21357\n",
      "[370]\ttraining's rmse: 0.213553\n",
      "[380]\ttraining's rmse: 0.213536\n",
      "[390]\ttraining's rmse: 0.213519\n",
      "[400]\ttraining's rmse: 0.213502\n",
      "[410]\ttraining's rmse: 0.213485\n",
      "[420]\ttraining's rmse: 0.21347\n",
      "[430]\ttraining's rmse: 0.213455\n",
      "[440]\ttraining's rmse: 0.213442\n",
      "[450]\ttraining's rmse: 0.213428\n",
      "[460]\ttraining's rmse: 0.213414\n",
      "[470]\ttraining's rmse: 0.213398\n",
      "[480]\ttraining's rmse: 0.213386\n",
      "[490]\ttraining's rmse: 0.213372\n",
      "[500]\ttraining's rmse: 0.213356\n",
      "[510]\ttraining's rmse: 0.213341\n",
      "[520]\ttraining's rmse: 0.213328\n",
      "[530]\ttraining's rmse: 0.213314\n",
      "[540]\ttraining's rmse: 0.2133\n",
      "[550]\ttraining's rmse: 0.213285\n",
      "[560]\ttraining's rmse: 0.213272\n",
      "[570]\ttraining's rmse: 0.213258\n",
      "[580]\ttraining's rmse: 0.213244\n",
      "[590]\ttraining's rmse: 0.213231\n",
      "[600]\ttraining's rmse: 0.213218\n",
      "[610]\ttraining's rmse: 0.213204\n",
      "[620]\ttraining's rmse: 0.213192\n",
      "[630]\ttraining's rmse: 0.213179\n",
      "[640]\ttraining's rmse: 0.213164\n",
      "[650]\ttraining's rmse: 0.213149\n",
      "[660]\ttraining's rmse: 0.213134\n",
      "[670]\ttraining's rmse: 0.21312\n",
      "[680]\ttraining's rmse: 0.213104\n",
      "[690]\ttraining's rmse: 0.213088\n",
      "[700]\ttraining's rmse: 0.213071\n",
      "[710]\ttraining's rmse: 0.21306\n",
      "[720]\ttraining's rmse: 0.213044\n",
      "[730]\ttraining's rmse: 0.213032\n",
      "[740]\ttraining's rmse: 0.213018\n",
      "[750]\ttraining's rmse: 0.213007\n",
      "[760]\ttraining's rmse: 0.212994\n",
      "[770]\ttraining's rmse: 0.212983\n",
      "[780]\ttraining's rmse: 0.212972\n",
      "[790]\ttraining's rmse: 0.212961\n",
      "[800]\ttraining's rmse: 0.212949\n",
      "[810]\ttraining's rmse: 0.212935\n",
      "[820]\ttraining's rmse: 0.212924\n",
      "[830]\ttraining's rmse: 0.212913\n",
      "[840]\ttraining's rmse: 0.212901\n",
      "[850]\ttraining's rmse: 0.212891\n",
      "[860]\ttraining's rmse: 0.212879\n",
      "[870]\ttraining's rmse: 0.212866\n",
      "[880]\ttraining's rmse: 0.212853\n",
      "[890]\ttraining's rmse: 0.212841\n",
      "[900]\ttraining's rmse: 0.212831\n",
      "[910]\ttraining's rmse: 0.212819\n",
      "[920]\ttraining's rmse: 0.212808\n",
      "[930]\ttraining's rmse: 0.212795\n",
      "[940]\ttraining's rmse: 0.212785\n",
      "[950]\ttraining's rmse: 0.212772\n",
      "[960]\ttraining's rmse: 0.212762\n",
      "[970]\ttraining's rmse: 0.21275\n",
      "[980]\ttraining's rmse: 0.212741\n",
      "[990]\ttraining's rmse: 0.212731\n",
      "[1000]\ttraining's rmse: 0.212719\n",
      "[1010]\ttraining's rmse: 0.212709\n",
      "[1020]\ttraining's rmse: 0.212698\n",
      "[1030]\ttraining's rmse: 0.212688\n",
      "[1040]\ttraining's rmse: 0.212678\n",
      "[1050]\ttraining's rmse: 0.212665\n",
      "[1060]\ttraining's rmse: 0.212655\n",
      "[1070]\ttraining's rmse: 0.212644\n",
      "[1080]\ttraining's rmse: 0.212631\n",
      "[1090]\ttraining's rmse: 0.212618\n",
      "[1100]\ttraining's rmse: 0.212609\n",
      "[1110]\ttraining's rmse: 0.212601\n",
      "[1120]\ttraining's rmse: 0.21259\n",
      "[1130]\ttraining's rmse: 0.21258\n",
      "[1140]\ttraining's rmse: 0.212571\n",
      "[1150]\ttraining's rmse: 0.21256\n",
      "[1160]\ttraining's rmse: 0.212549\n",
      "[1170]\ttraining's rmse: 0.212539\n",
      "[1180]\ttraining's rmse: 0.212528\n",
      "[1190]\ttraining's rmse: 0.212516\n",
      "[1200]\ttraining's rmse: 0.212506\n",
      "[1210]\ttraining's rmse: 0.212497\n",
      "[1220]\ttraining's rmse: 0.212486\n",
      "[1230]\ttraining's rmse: 0.212476\n",
      "[1240]\ttraining's rmse: 0.212465\n",
      "[1250]\ttraining's rmse: 0.212453\n",
      "[1260]\ttraining's rmse: 0.212441\n",
      "[1270]\ttraining's rmse: 0.212431\n",
      "[1280]\ttraining's rmse: 0.21242\n",
      "[1290]\ttraining's rmse: 0.212412\n",
      "[1300]\ttraining's rmse: 0.212402\n",
      "[1310]\ttraining's rmse: 0.212392\n",
      "[1320]\ttraining's rmse: 0.212383\n",
      "Did not meet early stopping. Best iteration is:\n",
      "[1326]\ttraining's rmse: 0.212378\n",
      "CPU times: user 5min 49s, sys: 2.86 s, total: 5min 52s\n",
      "Wall time: 45.9 s\n"
     ]
    },
    {
     "data": {
      "text/plain": [
       "LGBMRegressor(boosting_type='gbdt', class_weight=None, colsample_bytree=1.0,\n",
       "       feature_fraction=0.5, learning_rate=0.02, max_depth=-1,\n",
       "       min_child_samples=20, min_child_weight=0.001, min_split_gain=0.0,\n",
       "       n_estimators=1326, n_jobs=-1, num_leaves=32, objective=None,\n",
       "       random_state=None, reg_alpha=0.0, reg_lambda=0.0, silent=True,\n",
       "       subsample=1.0, subsample_for_bin=200000, subsample_freq=1)"
      ]
     },
     "execution_count": 17,
     "metadata": {},
     "output_type": "execute_result"
    }
   ],
   "source": [
    "%%time\n",
    "clf.fit(train_X, train_y, early_stopping_rounds=80, \n",
    "        eval_set=eval_set, eval_metric='rmse', verbose=10, \n",
    "        categorical_feature=['param_1','region','parent_category_name','category_name'])"
   ]
  },
  {
   "cell_type": "code",
   "execution_count": 18,
   "metadata": {},
   "outputs": [
    {
     "name": "stderr",
     "output_type": "stream",
     "text": [
      "/home/darragh/anaconda3/lib/python3.6/site-packages/ipykernel_launcher.py:1: SettingWithCopyWarning: \n",
      "A value is trying to be set on a copy of a slice from a DataFrame.\n",
      "Try using .loc[row_indexer,col_indexer] = value instead\n",
      "\n",
      "See the caveats in the documentation: http://pandas.pydata.org/pandas-docs/stable/indexing.html#indexing-view-versus-copy\n",
      "  \"\"\"Entry point for launching an IPython kernel.\n",
      "/home/darragh/anaconda3/lib/python3.6/site-packages/ipykernel_launcher.py:2: SettingWithCopyWarning: \n",
      "A value is trying to be set on a copy of a slice from a DataFrame.\n",
      "Try using .loc[row_indexer,col_indexer] = value instead\n",
      "\n",
      "See the caveats in the documentation: http://pandas.pydata.org/pandas-docs/stable/indexing.html#indexing-view-versus-copy\n",
      "  \n"
     ]
    }
   ],
   "source": [
    "test_df['deal_probability'] = clf.predict(test_df[cols] )\n",
    "test_df['deal_probability'] = np.clip(test_df['deal_probability'], .0001, .9999)\n",
    "test_df[['item_id', 'deal_probability']].to_csv('../lgbbsub_3105AL2.csv.gz', compression='gzip', index=False, header=True)"
   ]
  },
  {
   "cell_type": "code",
   "execution_count": null,
   "metadata": {},
   "outputs": [],
   "source": [
    "test_df[['item_id', 'deal_probability']].head()"
   ]
  },
  {
   "cell_type": "code",
   "execution_count": null,
   "metadata": {},
   "outputs": [],
   "source": []
  }
 ],
 "metadata": {
  "kernelspec": {
   "display_name": "Python 3",
   "language": "python",
   "name": "python3"
  },
  "language_info": {
   "codemirror_mode": {
    "name": "ipython",
    "version": 3
   },
   "file_extension": ".py",
   "mimetype": "text/x-python",
   "name": "python",
   "nbconvert_exporter": "python",
   "pygments_lexer": "ipython3",
   "version": "3.6.4"
  }
 },
 "nbformat": 4,
 "nbformat_minor": 2
}
