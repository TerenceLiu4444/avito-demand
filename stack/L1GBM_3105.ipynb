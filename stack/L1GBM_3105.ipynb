{
 "cells": [
  {
   "cell_type": "code",
   "execution_count": 1,
   "metadata": {},
   "outputs": [],
   "source": [
    "import pandas as pd\n",
    "import numpy as np\n",
    "from sklearn import metrics, linear_model\n",
    "from sklearn.model_selection import train_test_split\n",
    "from sklearn.preprocessing import LabelEncoder\n",
    "from lightgbm import LGBMRegressor\n",
    "\n",
    "data_path = 'data/'\n",
    "\n",
    "lgb25 = pd.read_csv('../lgCV_2505.csv.gz', compression='gzip')\n",
    "lgb27 = pd.read_csv('../lgCV_2705B.csv.gz', compression='gzip')\n",
    "rnn = pd.read_csv('../rnnCV_2805.csv.gz', compression='gzip')\n",
    "mlp = pd.read_csv('../mlpCV_2505.csv.gz', compression='gzip')\n",
    "truth = pd.read_csv('../../%strain.csv.zip'%(data_path), compression='zip')\n",
    "y = truth['deal_probability'].values\n",
    "truth.drop('deal_probability', 1)\n",
    "test =  pd.read_csv('../../%stest.csv.zip'%(data_path), compression='zip')\n",
    "test['deal_probability']=float('NAN') \n",
    "truth = pd.concat([truth,test[truth.columns]],axis=0)"
   ]
  },
  {
   "cell_type": "code",
   "execution_count": 2,
   "metadata": {},
   "outputs": [],
   "source": [
    "lgb25.rename(columns={'deal_probability': 'lgb25_preds' }, inplace=True)\n",
    "lgb27.rename(columns={'deal_probability': 'lgb27_preds' }, inplace=True)\n",
    "mlp.rename(columns={'deal_probability': 'mlp_preds' }, inplace=True)\n",
    "preds_df = lgb25.merge(rnn, on='item_id')\\\n",
    "                .merge(lgb27, on='item_id')\\\n",
    "                .merge(mlp, on='item_id')\\\n",
    "                .merge(truth, on='item_id',how='left')"
   ]
  },
  {
   "cell_type": "code",
   "execution_count": 3,
   "metadata": {},
   "outputs": [],
   "source": [
    "preds_df['difference_l27_r']=preds_df['lgb27_preds'] - preds_df['rnn_preds']\n",
    "preds_df['difference_l27_m']=preds_df['lgb27_preds'] - preds_df['mlp_preds']\n",
    "preds_df['difference_l27_l25']=preds_df['lgb27_preds'] - preds_df['lgb25_preds']\n",
    "preds_df['price'].fillna(-1,inplace=True)"
   ]
  },
  {
   "cell_type": "code",
   "execution_count": 4,
   "metadata": {},
   "outputs": [
    {
     "name": "stdout",
     "output_type": "stream",
     "text": [
      "True     1503424\n",
      "False     508438\n",
      "Name: deal_probability, dtype: int64\n",
      "RMSE lgb25_preds:  0.2167875440794737\n",
      "RMSE rnn_preds:  0.21771476573780568\n",
      "RMSE lgb27_preds:  0.21681527582821059\n",
      "RMSE mlp_preds:  0.2187544351068867\n"
     ]
    }
   ],
   "source": [
    "idx = preds_df['deal_probability']==preds_df['deal_probability']\n",
    "print(idx.value_counts())\n",
    "for col in [c for c in preds_df.columns if '_preds' in c]:\n",
    "    print('RMSE %s: '%(col), np.sqrt(metrics.mean_squared_error(preds_df['deal_probability'][idx].values, preds_df[col][idx].values)))"
   ]
  },
  {
   "cell_type": "code",
   "execution_count": 5,
   "metadata": {},
   "outputs": [],
   "source": [
    "cols = ['lgb27_preds', 'lgb25_preds', 'rnn_preds','mlp_preds','price', \\\n",
    "        'difference_l27_r', 'difference_l27_m', 'difference_l27_l25',\\\n",
    "        'region', 'param_1', 'parent_category_name', 'category_name']\n",
    "for col in ['region', 'param_1', 'parent_category_name', 'category_name']:\n",
    "    preds_df[col] = LabelEncoder().fit_transform(preds_df[col].fillna(\"0\"))\n",
    "train_df = preds_df[~preds_df['deal_probability'].isnull()]\n",
    "test_df = preds_df[preds_df['deal_probability'].isnull()]"
   ]
  },
  {
   "cell_type": "code",
   "execution_count": 6,
   "metadata": {},
   "outputs": [
    {
     "name": "stderr",
     "output_type": "stream",
     "text": [
      "/home/darragh/anaconda3/lib/python3.6/site-packages/sklearn/model_selection/_split.py:2026: FutureWarning: From version 0.21, test_size will always complement train_size unless both are specified.\n",
      "  FutureWarning)\n"
     ]
    }
   ],
   "source": [
    "full=False\n",
    "if full:\n",
    "    n_estimators = 950\n",
    "    train_X = train_df[cols]\n",
    "    train_y = y\n",
    "    eval_set = [(train_X,train_y)]\n",
    "else:\n",
    "    n_estimators = 4000\n",
    "    train_X, valid_X, train_y, valid_y = train_test_split(train_df[cols], y, train_size=.8, random_state=12345)\n",
    "    eval_set = [(train_X,train_y),(valid_X,valid_y)]"
   ]
  },
  {
   "cell_type": "code",
   "execution_count": 7,
   "metadata": {},
   "outputs": [
    {
     "data": {
      "text/plain": [
       "1202739"
      ]
     },
     "execution_count": 7,
     "metadata": {},
     "output_type": "execute_result"
    }
   ],
   "source": [
    "len(train_X)"
   ]
  },
  {
   "cell_type": "code",
   "execution_count": 8,
   "metadata": {},
   "outputs": [],
   "source": [
    "clf = LGBMRegressor(n_estimators=n_estimators, \n",
    "                    max_depth=-1, \n",
    "                    feature_fraction= 0.5,\n",
    "                    num_leaves=32, \n",
    "                    learning_rate=.02)#, device='gpu')"
   ]
  },
  {
   "cell_type": "code",
   "execution_count": null,
   "metadata": {},
   "outputs": [
    {
     "name": "stderr",
     "output_type": "stream",
     "text": [
      "/home/darragh/anaconda3/lib/python3.6/site-packages/lightgbm/basic.py:1038: UserWarning: categorical_feature in Dataset is overridden. New categorical_feature is ['category_name', 'param_1', 'parent_category_name', 'region']\n",
      "  warnings.warn('categorical_feature in Dataset is overridden. New categorical_feature is {}'.format(sorted(list(categorical_feature))))\n"
     ]
    },
    {
     "name": "stdout",
     "output_type": "stream",
     "text": [
      "Training until validation scores don't improve for 40 rounds.\n",
      "[10]\ttraining's rmse: 0.246134\tvalid_1's rmse: 0.246286\n",
      "[20]\ttraining's rmse: 0.236311\tvalid_1's rmse: 0.236503\n",
      "[30]\ttraining's rmse: 0.229703\tvalid_1's rmse: 0.229937\n",
      "[40]\ttraining's rmse: 0.224821\tvalid_1's rmse: 0.225104\n"
     ]
    }
   ],
   "source": [
    "%%time\n",
    "clf.fit(train_X, train_y, early_stopping_rounds=40, eval_set=eval_set, eval_metric='rmse', verbose=10, categorical_feature=['param_1','region','parent_category_name','category_name'])"
   ]
  },
  {
   "cell_type": "code",
   "execution_count": null,
   "metadata": {},
   "outputs": [],
   "source": [
    "test_df['deal_probability'] = clf.predict(test_df[cols] )\n",
    "test_df['deal_probability'] = np.clip(test_df['deal_probability'], .0001, .9999)\n",
    "test_df[['item_id', 'deal_probability']].to_csv('../lgbbsub_3105L2.csv.gz', compression='gzip', index=False, header=True)"
   ]
  },
  {
   "cell_type": "code",
   "execution_count": null,
   "metadata": {},
   "outputs": [],
   "source": [
    "test_df[['item_id', 'deal_probability']].head()"
   ]
  },
  {
   "cell_type": "code",
   "execution_count": null,
   "metadata": {},
   "outputs": [],
   "source": []
  }
 ],
 "metadata": {
  "kernelspec": {
   "display_name": "Python 3",
   "language": "python",
   "name": "python3"
  },
  "language_info": {
   "codemirror_mode": {
    "name": "ipython",
    "version": 3
   },
   "file_extension": ".py",
   "mimetype": "text/x-python",
   "name": "python",
   "nbconvert_exporter": "python",
   "pygments_lexer": "ipython3",
   "version": "3.6.4"
  }
 },
 "nbformat": 4,
 "nbformat_minor": 2
}
