{
 "cells": [
  {
   "cell_type": "code",
   "execution_count": 1,
   "metadata": {},
   "outputs": [],
   "source": [
    "\n",
    "import pandas as pd\n",
    "import numpy as np\n",
    "from sklearn import metrics, linear_model\n",
    "from sklearn.model_selection import train_test_split\n",
    "from sklearn.preprocessing import LabelEncoder\n",
    "from lightgbm import LGBMRegressor\n",
    "import sys\n",
    "import warnings\n",
    "\n",
    "if not sys.warnoptions:\n",
    "    warnings.simplefilter(\"ignore\")\n",
    "\n",
    "\n",
    "data_path = 'data/'\n",
    "\n",
    "#lgb25 = pd.read_csv('../lgCV_2505.csv.gz', compression='gzip')\n",
    "lgb27 = pd.read_csv('../lgCV_2705B.csv.gz', compression='gzip')\n",
    "lgb31 = pd.read_csv('../lgCV_3105.csv.gz', compression='gzip')\n",
    "rnn = pd.read_csv('../rnnCV_2805.csv.gz', compression='gzip')\n",
    "rnn27 = pd.read_csv('../rnnCV_2705A.csv.gz', compression='gzip')\n",
    "mlp = pd.read_csv('../mlpCV_2505.csv.gz', compression='gzip')\n",
    "truth = pd.read_csv('../../%strain.csv.zip'%(data_path), compression='zip', parse_dates = [\"activation_date\"])\n",
    "y = truth['deal_probability'].values\n",
    "truth.drop('deal_probability', 1)\n",
    "test =  pd.read_csv('../../%stest.csv.zip'%(data_path), compression='zip', parse_dates = [\"activation_date\"])\n",
    "test['deal_probability']=float('NAN') \n",
    "truth = pd.concat([truth,test[truth.columns]],axis=0)"
   ]
  },
  {
   "cell_type": "code",
   "execution_count": 3,
   "metadata": {},
   "outputs": [],
   "source": [
    "#rnn27trn = pd.read_pickle('../../features/y_pred_trn.pkl')\n",
    "#rnn27tst = pd.read_csv('../rnndhsub_2705A.csv.gz', compression='gzip')\n",
    "#rnn27 = pd.concat([rnn27tst, rnn27trn.reset_index().rename(columns = {0:'deal_probability'})], axis = 0)\n",
    "#rnn27.to_csv('../rnnCV_2705A.csv.gz', compression='gzip')"
   ]
  },
  {
   "cell_type": "code",
   "execution_count": 4,
   "metadata": {},
   "outputs": [],
   "source": [
    "#lgb25.rename(columns={'deal_probability': 'lgb25_preds' }, inplace=True)\n",
    "lgb31.rename(columns={'deal_probability': 'lgb31_preds' }, inplace=True)\n",
    "lgb27.rename(columns={'deal_probability': 'lgb27_preds' }, inplace=True)\n",
    "rnn27.rename(columns={'deal_probability': 'rnn27_preds' }, inplace=True)\n",
    "mlp.rename(columns={'deal_probability': 'mlp_preds' }, inplace=True)\n",
    "preds_df = lgb27.merge(rnn, on='item_id')\\\n",
    "                .merge(mlp, on='item_id')\\\n",
    "                .merge(lgb31, on='item_id')\\\n",
    "                .merge(rnn27, on='item_id')\\\n",
    "                .merge(truth, on='item_id',how='left')"
   ]
  },
  {
   "cell_type": "code",
   "execution_count": 5,
   "metadata": {},
   "outputs": [],
   "source": [
    "preds_df['difference_l27_r']=preds_df['lgb27_preds'] - preds_df['rnn_preds']\n",
    "preds_df['difference_l27_r1']=preds_df['lgb27_preds'] - preds_df['rnn27_preds']\n",
    "preds_df['difference_l27_m']=preds_df['lgb27_preds'] - preds_df['mlp_preds']\n",
    "preds_df['difference_r_m']=preds_df['rnn27_preds'] - preds_df['mlp_preds']\n",
    "#preds_df['difference_l27_l25']=preds_df['lgb27_preds'] - preds_df['lgb25_preds']\n",
    "preds_df['price'].fillna(-1,inplace=True)"
   ]
  },
  {
   "cell_type": "markdown",
   "metadata": {},
   "source": [
    "### Train scores"
   ]
  },
  {
   "cell_type": "code",
   "execution_count": 8,
   "metadata": {},
   "outputs": [
    {
     "name": "stdout",
     "output_type": "stream",
     "text": [
      "True     1503424\n",
      "False     508438\n",
      "Name: deal_probability, dtype: int64\n",
      "RMSE lgb27_preds:  0.21681527582821059\n",
      "RMSE rnn_preds:  0.21771476573780568\n",
      "RMSE mlp_preds:  0.2187544351068867\n",
      "RMSE lgb31_preds:  0.21681135578306754\n",
      "RMSE rnn27_preds:  0.21698040871120608\n"
     ]
    }
   ],
   "source": [
    "idx = preds_df['deal_probability']==preds_df['deal_probability']\n",
    "print(idx.value_counts())\n",
    "for col in [c for c in preds_df.columns if '_preds' in c]:\n",
    "    print('RMSE %s: '%(col), np.sqrt(metrics.mean_squared_error(preds_df['deal_probability'][idx].values, preds_df[col][idx].values)))"
   ]
  },
  {
   "cell_type": "code",
   "execution_count": 10,
   "metadata": {},
   "outputs": [],
   "source": [
    "foldls = [[\"2017-03-15\", \"2017-03-16\", \"2017-03-17\"], \\\n",
    "       [\"2017-03-18\", \"2017-03-19\", \"2017-03-20\"], \\\n",
    "       [\"2017-03-21\", \"2017-03-22\", \"2017-03-23\"], \\\n",
    "       [\"2017-03-24\", \"2017-03-25\", \"2017-03-26\"], \\\n",
    "        [\"2017-03-27\", \"2017-03-28\", \"2017-03-29\", \\\n",
    "            \"2017-03-30\", \"2017-03-31\", \"2017-04-01\", \\\n",
    "            \"2017-04-02\", \"2017-04-03\",\"2017-04-07\"]]\n",
    "foldls = [[pd.to_datetime(d) for d in f] for f in foldls]\n",
    "preds_df['fold'] = -1\n",
    "for t, fold in enumerate(foldls):\n",
    "    preds_df['fold'][preds_df.activation_date.isin(fold)] = t"
   ]
  },
  {
   "cell_type": "code",
   "execution_count": 11,
   "metadata": {},
   "outputs": [
    {
     "data": {
      "text/html": [
       "<div>\n",
       "<style scoped>\n",
       "    .dataframe tbody tr th:only-of-type {\n",
       "        vertical-align: middle;\n",
       "    }\n",
       "\n",
       "    .dataframe tbody tr th {\n",
       "        vertical-align: top;\n",
       "    }\n",
       "\n",
       "    .dataframe thead th {\n",
       "        text-align: right;\n",
       "    }\n",
       "</style>\n",
       "<table border=\"1\" class=\"dataframe\">\n",
       "  <thead>\n",
       "    <tr style=\"text-align: right;\">\n",
       "      <th></th>\n",
       "      <th>Model</th>\n",
       "      <th>Fold0</th>\n",
       "      <th>Fold1</th>\n",
       "      <th>Fold2</th>\n",
       "      <th>Fold3</th>\n",
       "      <th>Fold4</th>\n",
       "    </tr>\n",
       "  </thead>\n",
       "  <tbody>\n",
       "    <tr>\n",
       "      <th>0</th>\n",
       "      <td>lgb27_preds</td>\n",
       "      <td>0.216848</td>\n",
       "      <td>0.217096</td>\n",
       "      <td>0.217923</td>\n",
       "      <td>0.217597</td>\n",
       "      <td>0.213692</td>\n",
       "    </tr>\n",
       "    <tr>\n",
       "      <th>1</th>\n",
       "      <td>rnn_preds</td>\n",
       "      <td>0.218756</td>\n",
       "      <td>0.218966</td>\n",
       "      <td>0.215764</td>\n",
       "      <td>0.219554</td>\n",
       "      <td>0.214747</td>\n",
       "    </tr>\n",
       "    <tr>\n",
       "      <th>2</th>\n",
       "      <td>mlp_preds</td>\n",
       "      <td>0.219660</td>\n",
       "      <td>0.220088</td>\n",
       "      <td>0.216672</td>\n",
       "      <td>0.220347</td>\n",
       "      <td>0.216385</td>\n",
       "    </tr>\n",
       "    <tr>\n",
       "      <th>3</th>\n",
       "      <td>lgb31_preds</td>\n",
       "      <td>0.216537</td>\n",
       "      <td>0.216643</td>\n",
       "      <td>0.219230</td>\n",
       "      <td>0.217169</td>\n",
       "      <td>0.213430</td>\n",
       "    </tr>\n",
       "    <tr>\n",
       "      <th>4</th>\n",
       "      <td>rnn27_preds</td>\n",
       "      <td>0.218097</td>\n",
       "      <td>0.218115</td>\n",
       "      <td>0.214982</td>\n",
       "      <td>0.218651</td>\n",
       "      <td>0.214379</td>\n",
       "    </tr>\n",
       "  </tbody>\n",
       "</table>\n",
       "</div>"
      ],
      "text/plain": [
       "         Model     Fold0     Fold1     Fold2     Fold3     Fold4\n",
       "0  lgb27_preds  0.216848  0.217096  0.217923  0.217597  0.213692\n",
       "1    rnn_preds  0.218756  0.218966  0.215764  0.219554  0.214747\n",
       "2    mlp_preds  0.219660  0.220088  0.216672  0.220347  0.216385\n",
       "3  lgb31_preds  0.216537  0.216643  0.219230  0.217169  0.213430\n",
       "4  rnn27_preds  0.218097  0.218115  0.214982  0.218651  0.214379"
      ]
     },
     "execution_count": 11,
     "metadata": {},
     "output_type": "execute_result"
    }
   ],
   "source": [
    "scores = []\n",
    "for col in [c for c in preds_df.columns if '_preds' in c]:\n",
    "    lstmp = [col]\n",
    "    for i in range(5):\n",
    "        idx = preds_df['fold']==i\n",
    "        lstmp.append(np.sqrt(metrics.mean_squared_error(preds_df['deal_probability'][idx].values, \\\n",
    "                                                        preds_df[col][idx].values)))\n",
    "    scores.append(lstmp)\n",
    "pd.DataFrame(scores, columns = ['Model']+['Fold%s'%(i) for i in range(5)])"
   ]
  },
  {
   "cell_type": "markdown",
   "metadata": {},
   "source": [
    "### Correlations in test and train"
   ]
  },
  {
   "cell_type": "code",
   "execution_count": 20,
   "metadata": {},
   "outputs": [
    {
     "data": {
      "text/html": [
       "<div>\n",
       "<style scoped>\n",
       "    .dataframe tbody tr th:only-of-type {\n",
       "        vertical-align: middle;\n",
       "    }\n",
       "\n",
       "    .dataframe tbody tr th {\n",
       "        vertical-align: top;\n",
       "    }\n",
       "\n",
       "    .dataframe thead th {\n",
       "        text-align: right;\n",
       "    }\n",
       "</style>\n",
       "<table border=\"1\" class=\"dataframe\">\n",
       "  <thead>\n",
       "    <tr style=\"text-align: right;\">\n",
       "      <th></th>\n",
       "      <th>lgb27_preds</th>\n",
       "      <th>rnn_preds</th>\n",
       "      <th>mlp_preds</th>\n",
       "      <th>lgb31_preds</th>\n",
       "      <th>rnn27_preds</th>\n",
       "    </tr>\n",
       "  </thead>\n",
       "  <tbody>\n",
       "    <tr>\n",
       "      <th>lgb27_preds</th>\n",
       "      <td>1.000000</td>\n",
       "      <td>0.915952</td>\n",
       "      <td>0.919171</td>\n",
       "      <td>0.990750</td>\n",
       "      <td>0.916804</td>\n",
       "    </tr>\n",
       "    <tr>\n",
       "      <th>rnn_preds</th>\n",
       "      <td>0.915952</td>\n",
       "      <td>1.000000</td>\n",
       "      <td>0.929710</td>\n",
       "      <td>0.910602</td>\n",
       "      <td>0.985360</td>\n",
       "    </tr>\n",
       "    <tr>\n",
       "      <th>mlp_preds</th>\n",
       "      <td>0.919171</td>\n",
       "      <td>0.929710</td>\n",
       "      <td>1.000000</td>\n",
       "      <td>0.914307</td>\n",
       "      <td>0.925010</td>\n",
       "    </tr>\n",
       "    <tr>\n",
       "      <th>lgb31_preds</th>\n",
       "      <td>0.990750</td>\n",
       "      <td>0.910602</td>\n",
       "      <td>0.914307</td>\n",
       "      <td>1.000000</td>\n",
       "      <td>0.914204</td>\n",
       "    </tr>\n",
       "    <tr>\n",
       "      <th>rnn27_preds</th>\n",
       "      <td>0.916804</td>\n",
       "      <td>0.985360</td>\n",
       "      <td>0.925010</td>\n",
       "      <td>0.914204</td>\n",
       "      <td>1.000000</td>\n",
       "    </tr>\n",
       "  </tbody>\n",
       "</table>\n",
       "</div>"
      ],
      "text/plain": [
       "             lgb27_preds  rnn_preds  mlp_preds  lgb31_preds  rnn27_preds\n",
       "lgb27_preds     1.000000   0.915952   0.919171     0.990750     0.916804\n",
       "rnn_preds       0.915952   1.000000   0.929710     0.910602     0.985360\n",
       "mlp_preds       0.919171   0.929710   1.000000     0.914307     0.925010\n",
       "lgb31_preds     0.990750   0.910602   0.914307     1.000000     0.914204\n",
       "rnn27_preds     0.916804   0.985360   0.925010     0.914204     1.000000"
      ]
     },
     "execution_count": 20,
     "metadata": {},
     "output_type": "execute_result"
    }
   ],
   "source": [
    "# Test correlation\n",
    "preds_df[~preds_df['deal_probability'].isnull()][[c for c in preds_df.columns if '_preds' in c]].corr()"
   ]
  },
  {
   "cell_type": "code",
   "execution_count": 21,
   "metadata": {},
   "outputs": [
    {
     "data": {
      "text/html": [
       "<div>\n",
       "<style scoped>\n",
       "    .dataframe tbody tr th:only-of-type {\n",
       "        vertical-align: middle;\n",
       "    }\n",
       "\n",
       "    .dataframe tbody tr th {\n",
       "        vertical-align: top;\n",
       "    }\n",
       "\n",
       "    .dataframe thead th {\n",
       "        text-align: right;\n",
       "    }\n",
       "</style>\n",
       "<table border=\"1\" class=\"dataframe\">\n",
       "  <thead>\n",
       "    <tr style=\"text-align: right;\">\n",
       "      <th></th>\n",
       "      <th>lgb27_preds</th>\n",
       "      <th>rnn_preds</th>\n",
       "      <th>mlp_preds</th>\n",
       "      <th>lgb31_preds</th>\n",
       "      <th>rnn27_preds</th>\n",
       "    </tr>\n",
       "  </thead>\n",
       "  <tbody>\n",
       "    <tr>\n",
       "      <th>lgb27_preds</th>\n",
       "      <td>1.000000</td>\n",
       "      <td>0.930288</td>\n",
       "      <td>0.924283</td>\n",
       "      <td>0.991439</td>\n",
       "      <td>0.930692</td>\n",
       "    </tr>\n",
       "    <tr>\n",
       "      <th>rnn_preds</th>\n",
       "      <td>0.930288</td>\n",
       "      <td>1.000000</td>\n",
       "      <td>0.939951</td>\n",
       "      <td>0.927835</td>\n",
       "      <td>0.988198</td>\n",
       "    </tr>\n",
       "    <tr>\n",
       "      <th>mlp_preds</th>\n",
       "      <td>0.924283</td>\n",
       "      <td>0.939951</td>\n",
       "      <td>1.000000</td>\n",
       "      <td>0.922413</td>\n",
       "      <td>0.935069</td>\n",
       "    </tr>\n",
       "    <tr>\n",
       "      <th>lgb31_preds</th>\n",
       "      <td>0.991439</td>\n",
       "      <td>0.927835</td>\n",
       "      <td>0.922413</td>\n",
       "      <td>1.000000</td>\n",
       "      <td>0.931468</td>\n",
       "    </tr>\n",
       "    <tr>\n",
       "      <th>rnn27_preds</th>\n",
       "      <td>0.930692</td>\n",
       "      <td>0.988198</td>\n",
       "      <td>0.935069</td>\n",
       "      <td>0.931468</td>\n",
       "      <td>1.000000</td>\n",
       "    </tr>\n",
       "  </tbody>\n",
       "</table>\n",
       "</div>"
      ],
      "text/plain": [
       "             lgb27_preds  rnn_preds  mlp_preds  lgb31_preds  rnn27_preds\n",
       "lgb27_preds     1.000000   0.930288   0.924283     0.991439     0.930692\n",
       "rnn_preds       0.930288   1.000000   0.939951     0.927835     0.988198\n",
       "mlp_preds       0.924283   0.939951   1.000000     0.922413     0.935069\n",
       "lgb31_preds     0.991439   0.927835   0.922413     1.000000     0.931468\n",
       "rnn27_preds     0.930692   0.988198   0.935069     0.931468     1.000000"
      ]
     },
     "execution_count": 21,
     "metadata": {},
     "output_type": "execute_result"
    }
   ],
   "source": [
    "# Train correlation\n",
    "preds_df[preds_df['deal_probability'].isnull()][[c for c in preds_df.columns if '_preds' in c]].corr()"
   ]
  },
  {
   "cell_type": "code",
   "execution_count": 25,
   "metadata": {},
   "outputs": [],
   "source": [
    "cols = [c for c in preds_df.columns if '_preds' in c]\n",
    "cols += [c for c in preds_df.columns if 'difference' in c]\n",
    "cols += ['price', 'region', 'param_1', 'parent_category_name', 'category_name' ]\n",
    "for col in ['region', 'param_1', 'parent_category_name', 'category_name']:\n",
    "    preds_df[col] = LabelEncoder().fit_transform(preds_df[col].fillna(\"0\"))\n",
    "train_df = preds_df[~preds_df['deal_probability'].isnull()]\n",
    "test_df = preds_df[preds_df['deal_probability'].isnull()]"
   ]
  },
  {
   "cell_type": "code",
   "execution_count": 26,
   "metadata": {},
   "outputs": [],
   "source": [
    "n_estimators = 4000\n",
    "train_X, valid_X, train_y, valid_y = train_test_split(train_df[cols], y, train_size=.8, random_state=12345)\n",
    "eval_set = [(train_X,train_y),(valid_X,valid_y)]"
   ]
  },
  {
   "cell_type": "code",
   "execution_count": 27,
   "metadata": {},
   "outputs": [
    {
     "data": {
      "text/plain": [
       "1202739"
      ]
     },
     "execution_count": 27,
     "metadata": {},
     "output_type": "execute_result"
    }
   ],
   "source": [
    "len(train_X)"
   ]
  },
  {
   "cell_type": "code",
   "execution_count": 28,
   "metadata": {},
   "outputs": [
    {
     "name": "stdout",
     "output_type": "stream",
     "text": [
      "Training until validation scores don't improve for 80 rounds.\n",
      "[100]\ttraining's rmse: 0.221068\tvalid_1's rmse: 0.221411\n",
      "[200]\ttraining's rmse: 0.214745\tvalid_1's rmse: 0.215309\n",
      "[300]\ttraining's rmse: 0.213592\tvalid_1's rmse: 0.214339\n",
      "[400]\ttraining's rmse: 0.213262\tvalid_1's rmse: 0.214158\n",
      "[500]\ttraining's rmse: 0.213079\tvalid_1's rmse: 0.214105\n",
      "[600]\ttraining's rmse: 0.212935\tvalid_1's rmse: 0.214076\n",
      "[700]\ttraining's rmse: 0.212796\tvalid_1's rmse: 0.214048\n",
      "[800]\ttraining's rmse: 0.212677\tvalid_1's rmse: 0.214033\n",
      "[900]\ttraining's rmse: 0.212568\tvalid_1's rmse: 0.214022\n",
      "[1000]\ttraining's rmse: 0.212463\tvalid_1's rmse: 0.214013\n",
      "[1100]\ttraining's rmse: 0.212364\tvalid_1's rmse: 0.214004\n",
      "[1200]\ttraining's rmse: 0.212265\tvalid_1's rmse: 0.213993\n",
      "[1300]\ttraining's rmse: 0.212169\tvalid_1's rmse: 0.213987\n",
      "[1400]\ttraining's rmse: 0.212072\tvalid_1's rmse: 0.213981\n",
      "[1500]\ttraining's rmse: 0.211984\tvalid_1's rmse: 0.213977\n",
      "[1600]\ttraining's rmse: 0.211891\tvalid_1's rmse: 0.213972\n",
      "[1700]\ttraining's rmse: 0.211802\tvalid_1's rmse: 0.213966\n",
      "[1800]\ttraining's rmse: 0.211715\tvalid_1's rmse: 0.213962\n",
      "[1900]\ttraining's rmse: 0.211627\tvalid_1's rmse: 0.213958\n",
      "[2000]\ttraining's rmse: 0.211541\tvalid_1's rmse: 0.213956\n",
      "[2100]\ttraining's rmse: 0.211461\tvalid_1's rmse: 0.213954\n",
      "Early stopping, best iteration is:\n",
      "[2050]\ttraining's rmse: 0.211502\tvalid_1's rmse: 0.213954\n",
      "CPU times: user 10min 32s, sys: 5.04 s, total: 10min 37s\n",
      "Wall time: 1min 24s\n"
     ]
    }
   ],
   "source": [
    "%%time\n",
    "clf = LGBMRegressor(n_estimators=n_estimators, \n",
    "                    max_depth=-1, \n",
    "                    feature_fraction= 0.5,\n",
    "                    num_leaves=32, \n",
    "                    learning_rate=.01)#, device='gpu')\n",
    "clf.fit(train_X, train_y, early_stopping_rounds=80, \n",
    "        eval_set=eval_set, eval_metric='rmse', verbose=100, \n",
    "        categorical_feature=['param_1','region','parent_category_name','category_name'])"
   ]
  },
  {
   "cell_type": "code",
   "execution_count": 29,
   "metadata": {},
   "outputs": [
    {
     "data": {
      "text/plain": [
       "1503424"
      ]
     },
     "execution_count": 29,
     "metadata": {},
     "output_type": "execute_result"
    }
   ],
   "source": [
    "n_estimators = 2050\n",
    "train_X = train_df[cols]\n",
    "train_y = y\n",
    "eval_set = [(train_X,train_y)]\n",
    "len(train_X)"
   ]
  },
  {
   "cell_type": "code",
   "execution_count": 30,
   "metadata": {},
   "outputs": [
    {
     "name": "stdout",
     "output_type": "stream",
     "text": [
      "Training until validation scores don't improve for 80 rounds.\n",
      "[100]\ttraining's rmse: 0.221141\n",
      "[200]\ttraining's rmse: 0.214856\n",
      "[300]\ttraining's rmse: 0.213731\n",
      "[400]\ttraining's rmse: 0.213421\n",
      "[500]\ttraining's rmse: 0.213256\n",
      "[600]\ttraining's rmse: 0.213129\n",
      "[700]\ttraining's rmse: 0.213008\n",
      "[800]\ttraining's rmse: 0.212907\n",
      "[900]\ttraining's rmse: 0.212813\n",
      "[1000]\ttraining's rmse: 0.212722\n",
      "[1100]\ttraining's rmse: 0.21264\n",
      "[1200]\ttraining's rmse: 0.212556\n",
      "[1300]\ttraining's rmse: 0.212476\n",
      "[1400]\ttraining's rmse: 0.212393\n",
      "[1500]\ttraining's rmse: 0.212318\n",
      "[1600]\ttraining's rmse: 0.212241\n",
      "[1700]\ttraining's rmse: 0.212169\n",
      "[1800]\ttraining's rmse: 0.212095\n",
      "[1900]\ttraining's rmse: 0.212023\n",
      "[2000]\ttraining's rmse: 0.211951\n",
      "Did not meet early stopping. Best iteration is:\n",
      "[2050]\ttraining's rmse: 0.211915\n",
      "CPU times: user 11min 26s, sys: 5.84 s, total: 11min 32s\n",
      "Wall time: 1min 31s\n"
     ]
    }
   ],
   "source": [
    "%%time\n",
    "clf = LGBMRegressor(n_estimators=n_estimators, \n",
    "                    max_depth=-1, \n",
    "                    feature_fraction= 0.5,\n",
    "                    num_leaves=32, \n",
    "                    learning_rate=.01)#, device='gpu')\n",
    "\n",
    "clf.fit(train_X, train_y, early_stopping_rounds=80, \n",
    "        eval_set=eval_set, eval_metric='rmse', verbose=100, \n",
    "        categorical_feature=['param_1','region','parent_category_name','category_name'])"
   ]
  },
  {
   "cell_type": "code",
   "execution_count": 31,
   "metadata": {},
   "outputs": [],
   "source": [
    "test_df['deal_probability'] = clf.predict(test_df[cols])\n",
    "test_df['deal_probability'] = np.clip(test_df['deal_probability'], .0001, .9999)\n",
    "test_df[['item_id', 'deal_probability']].to_csv('../lgbbsub_0106AL2.csv.gz', compression='gzip', index=False, header=True)"
   ]
  },
  {
   "cell_type": "code",
   "execution_count": 32,
   "metadata": {},
   "outputs": [
    {
     "data": {
      "text/html": [
       "<div>\n",
       "<style scoped>\n",
       "    .dataframe tbody tr th:only-of-type {\n",
       "        vertical-align: middle;\n",
       "    }\n",
       "\n",
       "    .dataframe tbody tr th {\n",
       "        vertical-align: top;\n",
       "    }\n",
       "\n",
       "    .dataframe thead th {\n",
       "        text-align: right;\n",
       "    }\n",
       "</style>\n",
       "<table border=\"1\" class=\"dataframe\">\n",
       "  <thead>\n",
       "    <tr style=\"text-align: right;\">\n",
       "      <th></th>\n",
       "      <th>item_id</th>\n",
       "      <th>deal_probability</th>\n",
       "    </tr>\n",
       "  </thead>\n",
       "  <tbody>\n",
       "    <tr>\n",
       "      <th>1503424</th>\n",
       "      <td>6544e41a8817</td>\n",
       "      <td>0.422122</td>\n",
       "    </tr>\n",
       "    <tr>\n",
       "      <th>1503425</th>\n",
       "      <td>65b9484d670f</td>\n",
       "      <td>0.151064</td>\n",
       "    </tr>\n",
       "    <tr>\n",
       "      <th>1503426</th>\n",
       "      <td>8bab230b2ecd</td>\n",
       "      <td>0.118057</td>\n",
       "    </tr>\n",
       "    <tr>\n",
       "      <th>1503427</th>\n",
       "      <td>8e348601fefc</td>\n",
       "      <td>0.070530</td>\n",
       "    </tr>\n",
       "    <tr>\n",
       "      <th>1503428</th>\n",
       "      <td>8bd2fe400b89</td>\n",
       "      <td>0.218432</td>\n",
       "    </tr>\n",
       "  </tbody>\n",
       "</table>\n",
       "</div>"
      ],
      "text/plain": [
       "              item_id  deal_probability\n",
       "1503424  6544e41a8817          0.422122\n",
       "1503425  65b9484d670f          0.151064\n",
       "1503426  8bab230b2ecd          0.118057\n",
       "1503427  8e348601fefc          0.070530\n",
       "1503428  8bd2fe400b89          0.218432"
      ]
     },
     "execution_count": 32,
     "metadata": {},
     "output_type": "execute_result"
    }
   ],
   "source": [
    "test_df[['item_id', 'deal_probability']].head()"
   ]
  },
  {
   "cell_type": "code",
   "execution_count": null,
   "metadata": {},
   "outputs": [],
   "source": []
  }
 ],
 "metadata": {
  "kernelspec": {
   "display_name": "Python 3",
   "language": "python",
   "name": "python3"
  },
  "language_info": {
   "codemirror_mode": {
    "name": "ipython",
    "version": 3
   },
   "file_extension": ".py",
   "mimetype": "text/x-python",
   "name": "python",
   "nbconvert_exporter": "python",
   "pygments_lexer": "ipython3",
   "version": "3.6.4"
  }
 },
 "nbformat": 4,
 "nbformat_minor": 2
}
